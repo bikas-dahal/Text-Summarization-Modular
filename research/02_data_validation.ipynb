{
 "cells": [
  {
   "cell_type": "code",
   "execution_count": 1,
   "metadata": {},
   "outputs": [],
   "source": [
    "import os "
   ]
  },
  {
   "cell_type": "code",
   "execution_count": 2,
   "metadata": {},
   "outputs": [
    {
     "data": {
      "text/plain": [
       "'d:\\\\break\\\\Django\\\\nlp\\\\text_summarizer\\\\research'"
      ]
     },
     "execution_count": 2,
     "metadata": {},
     "output_type": "execute_result"
    }
   ],
   "source": [
    "%pwd "
   ]
  },
  {
   "cell_type": "code",
   "execution_count": 3,
   "metadata": {},
   "outputs": [],
   "source": [
    "\n",
    "os.chdir('../')"
   ]
  },
  {
   "cell_type": "code",
   "execution_count": 4,
   "metadata": {},
   "outputs": [
    {
     "data": {
      "text/plain": [
       "'d:\\\\break\\\\Django\\\\nlp\\\\text_summarizer'"
      ]
     },
     "execution_count": 4,
     "metadata": {},
     "output_type": "execute_result"
    }
   ],
   "source": [
    "%pwd"
   ]
  },
  {
   "cell_type": "code",
   "execution_count": 5,
   "metadata": {},
   "outputs": [],
   "source": [
    "from dataclasses import dataclass \n",
    "from pathlib import Path \n",
    "\n",
    "@dataclass(frozen=True)\n",
    "class DataValidationConfig: \n",
    "    root_dir: Path \n",
    "    STATUS_FILE: str \n",
    "    ALL_REQUIRED_FILES: list \n",
    "    "
   ]
  },
  {
   "cell_type": "code",
   "execution_count": 6,
   "metadata": {},
   "outputs": [
    {
     "name": "stdout",
     "output_type": "stream",
     "text": [
      "config\\config.yaml\n",
      "artifacts_root: artifacts\n",
      "\n",
      "\n",
      "data_ingestion:\n",
      "  root_dir: artifacts/data_ingestion\n",
      "  source_URL: https://github.com/entbappy/Branching-tutorial/raw/master/samsumdata.zip\n",
      "  local_data_file: artifacts/data_ingestion/data.zip \n",
      "  unzip_dir: artifacts/data_ingestion\n",
      "  \n",
      "\n",
      "data_validation:\n",
      "  root_dir: artifacts/data_validation\n",
      "  STATUS_FILE: artifacts/data_validation/status.txt \n",
      "  ALL_REQUIRED_FILES: ['train', 'test', 'validation']\n",
      "\n",
      "\n"
     ]
    }
   ],
   "source": [
    "from textSummarizer.constants import *\n",
    "from textSummarizer.utils.common import read_yaml, create_directories\n"
   ]
  },
  {
   "cell_type": "code",
   "execution_count": 7,
   "metadata": {},
   "outputs": [],
   "source": [
    "class ConfigurationManager:\n",
    "    def __init__(\n",
    "        self,\n",
    "        config_filepath = CONFIG_FILE_PATH,\n",
    "        params_filepath = PARAMS_FILE_PATH):\n",
    "        \n",
    "        self.config = read_yaml(config_filepath)\n",
    "        self.params = read_yaml(params_filepath)\n",
    "        \n",
    "        create_directories([self.config.artifacts_root])\n",
    "        \n",
    "    def get_data_validation_config(self) -> DataValidationConfig:\n",
    "        config = self.config.data_validation\n",
    "        \n",
    "        create_directories([config.root_dir])\n",
    "        \n",
    "        data_validation_config = DataValidationConfig(\n",
    "            root_dir= config.root_dir,\n",
    "            STATUS_FILE = config.STATUS_FILE,\n",
    "            ALL_REQUIRED_FILES= config.ALL_REQUIRED_FILES\n",
    "        )\n",
    "        \n",
    "        \n",
    "        return data_validation_config"
   ]
  },
  {
   "cell_type": "code",
   "execution_count": 8,
   "metadata": {},
   "outputs": [],
   "source": [
    "import os \n",
    "import urllib.request as request \n",
    "import zipfile \n",
    "from textSummarizer.logging import logger \n",
    "from textSummarizer.utils.common import get_size \n",
    "import yaml\n",
    "\n"
   ]
  },
  {
   "cell_type": "code",
   "execution_count": 13,
   "metadata": {},
   "outputs": [],
   "source": [
    "class DataValidation: \n",
    "    def __init__(self, config: DataValidationConfig):\n",
    "        self.config = config\n",
    "        \n",
    "    def validate_all_files_exist(self) -> bool: \n",
    "        try: \n",
    "            validation_status = None \n",
    "            \n",
    "            all_files = os.listdir(os.path.join('artifacts', 'data_ingestion', 'samsum_dataset'))\n",
    "            \n",
    "            for file in all_files:\n",
    "                if file not in self.config.ALL_REQUIRED_FILES:\n",
    "                    validation_status = False \n",
    "                    with open(self.config.STATUS_FILE, 'w') as f: \n",
    "                        f.write(f'{file} is missing')\n",
    "                else: \n",
    "                    validation_status = True \n",
    "                    with open(self.config.STATUS_FILE, 'w') as f: \n",
    "                        f.write('All files are present')\n",
    "                        \n",
    "            return validation_status\n",
    "        \n",
    "        except Exception as e:\n",
    "            logger.error(f'Error in validate_all_files_exist: {e}')\n",
    "            raise e \n",
    "        "
   ]
  },
  {
   "cell_type": "code",
   "execution_count": 14,
   "metadata": {},
   "outputs": [
    {
     "name": "stdout",
     "output_type": "stream",
     "text": [
      "[2024-05-13 08:34:32,813: INFO: common: Yaml file: config\\config.yaml loaded successfully]\n",
      "[2024-05-13 08:34:32,815: INFO: common: Yaml file: params.yaml loaded successfully]\n",
      "[2024-05-13 08:34:32,817: INFO: common: Directory created: artifacts]\n",
      "[2024-05-13 08:34:32,819: INFO: common: Directory created: artifacts/data_validation]\n"
     ]
    },
    {
     "ename": "",
     "evalue": "",
     "output_type": "error",
     "traceback": [
      "\u001b[1;31mThe Kernel crashed while executing code in the current cell or a previous cell. \n",
      "\u001b[1;31mPlease review the code in the cell(s) to identify a possible cause of the failure. \n",
      "\u001b[1;31mClick <a href='https://aka.ms/vscodeJupyterKernelCrash'>here</a> for more info. \n",
      "\u001b[1;31mView Jupyter <a href='command:jupyter.viewOutput'>log</a> for further details."
     ]
    }
   ],
   "source": [
    "try: \n",
    "    config = ConfigurationManager() \n",
    "    data_validation_config = config.get_data_validation_config()\n",
    "    data_validation = DataValidation(config=data_validation_config)\n",
    "    data_validation.validate_all_files_exist()\n",
    "except Exception as e: \n",
    "    raise e "
   ]
  },
  {
   "cell_type": "code",
   "execution_count": null,
   "metadata": {},
   "outputs": [],
   "source": []
  }
 ],
 "metadata": {
  "kernelspec": {
   "display_name": "nlp-env",
   "language": "python",
   "name": "python3"
  },
  "language_info": {
   "codemirror_mode": {
    "name": "ipython",
    "version": 3
   },
   "file_extension": ".py",
   "mimetype": "text/x-python",
   "name": "python",
   "nbconvert_exporter": "python",
   "pygments_lexer": "ipython3",
   "version": "3.11.7"
  }
 },
 "nbformat": 4,
 "nbformat_minor": 2
}
